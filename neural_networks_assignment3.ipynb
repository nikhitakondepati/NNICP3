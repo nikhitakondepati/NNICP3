{
  "nbformat": 4,
  "nbformat_minor": 0,
  "metadata": {
    "colab": {
      "provenance": []
    },
    "kernelspec": {
      "name": "python3",
      "display_name": "Python 3"
    },
    "language_info": {
      "name": "python"
    }
  },
  "cells": [
    {
      "cell_type": "code",
      "execution_count": 1,
      "metadata": {
        "colab": {
          "base_uri": "https://localhost:8080/"
        },
        "id": "DTL8TxMHUNzE",
        "outputId": "0d75cfb9-67fb-498e-f1dc-c855e19e9aa5"
      },
      "outputs": [
        {
          "output_type": "stream",
          "name": "stdout",
          "text": [
            "Employee 1: \n",
            "Enter name: nikhita\n",
            "Family Members: 2\n",
            "Employee Salary: 50000\n",
            "Employee Department: security\n",
            "Employee 2: \n",
            "Enter name: moni\n",
            "Family Members: 2\n",
            "Employee Salary: 30000\n",
            "Employee Department: backend\n",
            "Full Time Employee 1: \n",
            "Enter name: soumica\n",
            "Family Members: 2\n",
            "Employee Salary: 30000\n",
            "Employee Department: front end\n",
            "\n",
            "Number of employees:  3\n",
            "Avg salary is : 40000.0\n"
          ]
        }
      ],
      "source": [
        "class Employee:\n",
        "    numberOfEmployees = 0\n",
        "\n",
        "    def __init__(self, name, family, salary, department):\n",
        "        self.name = name\n",
        "        self.family = family\n",
        "        self.salary = salary\n",
        "        self.department = department\n",
        "        Employee.numberOfEmployees+=1\n",
        "\n",
        "\n",
        "def averagesalary(employee):\n",
        "    total = sum(e.salary for e in employee)\n",
        "    average = total / len(employee)\n",
        "    return average\n",
        "\n",
        "class FulltimeEmployee(Employee):\n",
        "    def __init__(self, name, family, salary, department):\n",
        "        Employee.__init__(self,name, family, salary, department)\n",
        "\n",
        "print(\"Employee 1: \")\n",
        "employee1 = Employee(input(\"Enter name: \"),input(\"Family Members: \"),int(input(\"Employee Salary: \")),input(\"Employee Department: \"))\n",
        "print(\"Employee 2: \")\n",
        "employee2 = Employee(input(\"Enter name: \"),input(\"Family Members: \"),int(input(\"Employee Salary: \")),input(\"Employee Department: \"))\n",
        "print(\"Full Time Employee 1: \")\n",
        "employee3 = FulltimeEmployee(input(\"Enter name: \"),input(\"Family Members: \"),int(input(\"Employee Salary: \")),input(\"Employee Department: \"))\n",
        "print(\"\")\n",
        "print(\"Number of employees: \",Employee.numberOfEmployees)\n",
        "listofEmployees = [employee1, employee2]\n",
        "avgsalary = averagesalary(listofEmployees)\n",
        "print(\"Avg salary is :\", avgsalary)"
      ]
    },
    {
      "cell_type": "code",
      "source": [
        "import numpy\n",
        "\n",
        "random_vector = numpy.random.uniform(1, 20, 20)\n",
        "print(random_vector)\n",
        "print(\"\")\n",
        "print(\"\")\n",
        "reshaped_array = random_vector.reshape(4, 5)\n",
        "print(\"\")\n",
        "print(\"\")\n",
        "print(reshaped_array)\n",
        "reshaped_array[numpy.arange(4), numpy.argmax(reshaped_array, axis=1)] = 0\n",
        "print(\"\")\n",
        "print(\"\")\n",
        "print(reshaped_array)"
      ],
      "metadata": {
        "colab": {
          "base_uri": "https://localhost:8080/"
        },
        "id": "pX8tWDDvVhUG",
        "outputId": "4e2b14fd-0cda-4359-e634-3393fc793fa8"
      },
      "execution_count": 2,
      "outputs": [
        {
          "output_type": "stream",
          "name": "stdout",
          "text": [
            "[ 2.4326064   4.69884211  6.00319635 14.90837197 16.39319299  3.85516063\n",
            " 11.32766547 17.89610889  7.59118462 15.50262894  6.00553622 10.0656344\n",
            "  8.62250124  5.13231986 13.55171489 11.86057268  7.0334025   1.47706652\n",
            " 10.32037539  1.51868577]\n",
            "\n",
            "\n",
            "\n",
            "\n",
            "[[ 2.4326064   4.69884211  6.00319635 14.90837197 16.39319299]\n",
            " [ 3.85516063 11.32766547 17.89610889  7.59118462 15.50262894]\n",
            " [ 6.00553622 10.0656344   8.62250124  5.13231986 13.55171489]\n",
            " [11.86057268  7.0334025   1.47706652 10.32037539  1.51868577]]\n",
            "\n",
            "\n",
            "[[ 2.4326064   4.69884211  6.00319635 14.90837197  0.        ]\n",
            " [ 3.85516063 11.32766547  0.          7.59118462 15.50262894]\n",
            " [ 6.00553622 10.0656344   8.62250124  5.13231986  0.        ]\n",
            " [ 0.          7.0334025   1.47706652 10.32037539  1.51868577]]\n"
          ]
        }
      ]
    }
  ]
}